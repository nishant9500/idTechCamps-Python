{
 "cells": [
  {
   "cell_type": "markdown",
   "metadata": {},
   "source": [
    "**Intro to Numpy**\n",
    "==\n",
    "\n",
    "Numpy has is a powerful library that we can use to handle data better\n",
    "\n",
    "we import numpy like so below\n"
   ]
  },
  {
   "cell_type": "code",
   "execution_count": 16,
   "metadata": {},
   "outputs": [],
   "source": [
    "import numpy as np #its renamed so we dont have to type all 5 letters only 2 yay!"
   ]
  },
  {
   "cell_type": "code",
   "execution_count": 17,
   "metadata": {},
   "outputs": [],
   "source": [
    "#make a python list or as we now will refer to them arrays\n",
    "\n",
    "\n",
    "#this is how we make a numpy array\n",
    "np_array = np.array([1, 2, 3, 4, 5, 6, 7, 8, 9])\n",
    "\n"
   ]
  },
  {
   "cell_type": "markdown",
   "metadata": {},
   "source": [
    "**Range**\n",
    "==\n",
    "similar to Python's range function which can create a set of numbers from one to another numpy provides a better solution\n",
    "\n",
    "where we had:\n",
    "    \n",
    "range(x, y)\n",
    "\n",
    "we now have np.arrange(x, y, step)\n",
    "\n",
    "so x and y are the same x is our starting point, y is our ending point, step is how many we want to increment to get there\n",
    "\n",
    "if we go from 0, 10 with a step of 2 we get a numpy array of the below \n",
    "    \n",
    "    [0, 2, 4, 6, 8]\n",
    "    "
   ]
  },
  {
   "cell_type": "code",
   "execution_count": 15,
   "metadata": {},
   "outputs": [],
   "source": [
    "#make an array below this using the new np function\n"
   ]
  },
  {
   "cell_type": "markdown",
   "metadata": {},
   "source": [
    "**Reshaping**\n",
    "==\n",
    "\n",
    "Now we have above us an array that has a size of 5 and when I say size I mean 5 elements inside the array.\n",
    "\n",
    "We can call this the Arrays shape so in otherwords it has a shape of 5\n",
    "\n",
    "we can call a shape variable with\n",
    "\n",
    "```python\n",
    "x = np.arange(0, 10, 3)\n",
    "x.shape\n",
    "\n",
    "```\n",
    "try this out"
   ]
  },
  {
   "cell_type": "code",
   "execution_count": null,
   "metadata": {},
   "outputs": [],
   "source": [
    "#create an array using the arange and print it out\n",
    "#now print out the shape by calling the shape method(note there are no parenthesis)"
   ]
  },
  {
   "cell_type": "markdown",
   "metadata": {},
   "source": [
    "So what you should have gotten is a wierd (4, ) size. This represents a rank one Matrix. with one row and 4 elements.\n",
    "\n",
    "so we want to reshape it so it doesnt look all janky with the (4, )\n",
    "\n",
    "lets give it a go.\n",
    "\n",
    "okay so we want this 4 shape to become a 1x4 shape\n",
    "\n",
    "all we need is to call the reshape function is\n",
    "\n",
    "```python\n",
    "x = x.reshape(1, 4)\n",
    "```\n",
    "after calling the reshape function, it returns the value so we need to save it to a variable. In many cases we want to update our reshaped data so we can save it to its original vairable x."
   ]
  },
  {
   "cell_type": "code",
   "execution_count": null,
   "metadata": {},
   "outputs": [],
   "source": [
    "#here lets reshape the x array to a 1x4 shape"
   ]
  },
  {
   "cell_type": "code",
   "execution_count": null,
   "metadata": {},
   "outputs": [],
   "source": [
    "#here lets reshape the x array to a 2x2 shape"
   ]
  },
  {
   "cell_type": "markdown",
   "metadata": {},
   "source": [
    "**Zeros**\n",
    "==\n",
    "\n",
    "Say for some reason we want an array to hold a bunch of zeros well we have a function for that!\n",
    "n and m will be the size for each dimension in the array\n",
    "\n",
    "```python\n",
    "z = np.zeros((n, m))\n",
    "\n",
    "print(z)\n",
    "```\n",
    "\n",
    "Now why do we need a bunch of zeros?\n",
    "Well in many cases when it comes to machine learning(wow i finally brought it up)\n",
    "we want to utilize the almost empty arrays to be filled with data. Making a bunch of zeros only allocates the space for future computations.\n"
   ]
  },
  {
   "cell_type": "code",
   "execution_count": 21,
   "metadata": {},
   "outputs": [
    {
     "name": "stdout",
     "output_type": "stream",
     "text": [
      "[[0. 2.]\n",
      " [4. 6.]]\n"
     ]
    }
   ],
   "source": [
    "z = np.zeros((2, 2))\n",
    "\n",
    "n = np.arange(0, 8, 2)\n",
    "n = n.reshape(2, 2)\n",
    "\n",
    "print(z + n)\n"
   ]
  },
  {
   "cell_type": "markdown",
   "metadata": {},
   "source": [
    "Identity Matrix"
   ]
  }
 ],
 "metadata": {
  "kernelspec": {
   "display_name": "Python 3",
   "language": "python",
   "name": "python3"
  },
  "language_info": {
   "codemirror_mode": {
    "name": "ipython",
    "version": 3
   },
   "file_extension": ".py",
   "mimetype": "text/x-python",
   "name": "python",
   "nbconvert_exporter": "python",
   "pygments_lexer": "ipython3",
   "version": "3.5.2"
  }
 },
 "nbformat": 4,
 "nbformat_minor": 2
}
