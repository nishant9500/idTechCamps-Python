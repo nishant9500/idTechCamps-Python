{
 "cells": [
  {
   "cell_type": "markdown",
   "metadata": {},
   "source": [
    "**Convolutional Layers**\n",
    "==\n",
    "\n",
    "So to do image recognition we need to create a convolutional network!\n",
    "\n",
    "This takes photo data!\n"
   ]
  },
  {
   "cell_type": "code",
   "execution_count": 2,
   "metadata": {},
   "outputs": [],
   "source": [
    "import tensorflow as tf\n",
    "import numpy as np\n",
    "\n",
    "color_channels = 1\n",
    "image_height = 28\n",
    "image_width  = 28\n",
    "def mnist_cnn_layers():\n",
    "    input_layers = tf.placeholder(dtype = tf.float32, shape = [-1, image_height, image_width, color_channels])\n",
    "    #this will store the image pixels\n",
    "    \n",
    "    #next we need to create our 1st convolutional layer with a filter of 32 kernel size of 5x5 and a same padding. Activation function is relu\n",
    "    conv_layer_1 = tf.layers.conv2d(inputs = input_layer, filters = 32, kernel_size = [5, 5], padding = \"same\", activation = tf.nn.relu)\n",
    "    \n",
    "    #next we create our pooling layer which will \"shrink\" the amount of data processed by the convolutional layer\n",
    "    pooling_layer_1 = tf.layers.max_pooling2d(inputs = conv_layer_1, pool_size = [2, 2], strides = 2)\n",
    "    \n",
    "    #make a seconds convolutional network\n",
    "    conv_layer_2 = tf.layers.conv2d(inputs = pooling_layer, filters = 32, kernel_size = [2, 2], padding = \"same\", activation = tf.nn.relu)\n",
    "    \n",
    "    #and a second pooling layer\n",
    "    pooling_layer_2 = tf.layers.conv2d(inputs = conv_layer_2, pool_size = [2, 2,], strides = 2)\n",
    "    \n",
    "    #flatten the image data\n",
    "    flattened_layer = tf.reshape(pooling_layer_2, [ -1, 7 * 7 * 64 ])\n",
    "\n",
    "    #performs classification on the features.\n",
    "    dense_layer = tf.layers.dense(inputs=pool2_flat, units=1024, activation=tf.nn.relu)\n",
    "    \n",
    "    #improve the results of the model\n",
    "    dropout = tf.layers.dropout(inputs = dense, rate = 0.4, training=mode == tf.estimator.ModeKeys.TRAIN)\n",
    "    \n",
    "    logits_layer = tf.layers.dense(inputs.dropout, units = 10)\n",
    "    \n",
    "    "
   ]
  },
  {
   "cell_type": "code",
   "execution_count": null,
   "metadata": {},
   "outputs": [],
   "source": []
  }
 ],
 "metadata": {
  "kernelspec": {
   "display_name": "Python 3",
   "language": "python",
   "name": "python3"
  },
  "language_info": {
   "codemirror_mode": {
    "name": "ipython",
    "version": 3
   },
   "file_extension": ".py",
   "mimetype": "text/x-python",
   "name": "python",
   "nbconvert_exporter": "python",
   "pygments_lexer": "ipython3",
   "version": "3.5.2"
  }
 },
 "nbformat": 4,
 "nbformat_minor": 2
}
